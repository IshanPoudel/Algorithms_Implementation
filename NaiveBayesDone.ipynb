{
  "nbformat": 4,
  "nbformat_minor": 0,
  "metadata": {
    "colab": {
      "provenance": [],
      "authorship_tag": "ABX9TyOMdRycjtxnJC1lV6I421PA",
      "include_colab_link": true
    },
    "kernelspec": {
      "name": "python3",
      "display_name": "Python 3"
    },
    "language_info": {
      "name": "python"
    }
  },
  "cells": [
    {
      "cell_type": "markdown",
      "metadata": {
        "id": "view-in-github",
        "colab_type": "text"
      },
      "source": [
        "<a href=\"https://colab.research.google.com/github/IshanPoudel/Algorithms_Implementation/blob/main/NaiveBayesDone.ipynb\" target=\"_parent\"><img src=\"https://colab.research.google.com/assets/colab-badge.svg\" alt=\"Open In Colab\"/></a>"
      ]
    },
    {
      "cell_type": "code",
      "execution_count": null,
      "metadata": {
        "colab": {
          "base_uri": "https://localhost:8080/",
          "height": 35
        },
        "id": "dSHkBKdxRMT1",
        "outputId": "d5e183eb-6f30-414c-d488-4d567bf02983"
      },
      "outputs": [
        {
          "output_type": "execute_result",
          "data": {
            "text/plain": [
              "'\\nsdgksjgbsd\\n'"
            ],
            "application/vnd.google.colaboratory.intrinsic+json": {
              "type": "string"
            }
          },
          "metadata": {},
          "execution_count": 5
        }
      ],
      "source": [
        "import numpy as np\n",
        "import pandas as pd\n",
        "import scipy.stats as stats\n",
        "import matplotlib.pyplot as plt\n",
        "from sklearn.model_selection import train_test_split\n",
        "import seaborn as sns\n",
        "\n",
        "sns.set(style = \"whitegrid\")\n",
        "\n",
        "'''\n",
        "sdgksjgbsd\n",
        "'''"
      ]
    },
    {
      "cell_type": "code",
      "source": [
        "\n",
        "test_case = ['I had a terrible experience with this company ' ,\n",
        "             'This is a great company with excellent customer service',\n",
        "             'I was really disappointed with this product',\n",
        "             'service is too expensive for what it offers']\n"
      ],
      "metadata": {
        "id": "-iH8sSVOpada"
      },
      "execution_count": null,
      "outputs": []
    },
    {
      "cell_type": "code",
      "source": [
        "class NaiveBayesClassifier():\n",
        "\n",
        "  \n",
        "\n",
        "   def calc_prior(self , features , target):\n",
        "    #  For example, let's say we have a dataset of 100 emails, \n",
        "    # and 60 of them are spam and 40 of them are not spam. \n",
        "    # The prior probability of spam would be:0.6\n",
        "\n",
        "     '''prior prob P(y)'''\n",
        "     self.prior = (features.groupby(target).apply(lambda x: len(x))/self.rows).to_numpy()\n",
        "\n",
        "     return self.prior\n",
        "    \n",
        "   def calc_stats(self , features , target):\n",
        "     self.mean = features.groupby(target).apply(np.mean).to_numpy()\n",
        "     self.var = features.groupby(target).apply(np.var).to_numpy()\n",
        "\n",
        "     return self.mean, self.var\n",
        "\n",
        "   def gaussian_den(self , class_idx , x):\n",
        "    mean = self.mean[class_idx]\n",
        "    var=self.var[class_idx]\n",
        "\n",
        "    \n",
        "\n",
        "    if var.all == 0:\n",
        "      # Handle the case where variance is zero\n",
        "      prob = 1.0 \n",
        "      return 1.0\n",
        "    else:\n",
        "      # Calculate the probability density normally\n",
        "      \n",
        "      numerator = np.exp((-1/2)*((x-mean)**2)/(2*var+1e-9))\n",
        "      denominator = np.sqrt(2*np.pi*var+1e-9)\n",
        "      prob = numerator / denominator\n",
        "    \n",
        "    return prob\n",
        "\n",
        "   def calc_posterior(self , x):\n",
        "     posterior=[]\n",
        "\n",
        "     for i in range(self.count):\n",
        "       prior = np.log(self.prior[i])\n",
        "\n",
        "       conditional = np.sum(np.log(self.gaussian_den(i,x)))\n",
        "\n",
        "       post = prior+conditional\n",
        "\n",
        "       posterior.append(post)\n",
        "\n",
        "     return self.class_target[np.argmax(posterior)]\n",
        "\n",
        "   def fit(self, features, target):\n",
        "\n",
        "      self.class_target = np.unique(target)\n",
        "\n",
        "      self.count = len(self.class_target)\n",
        "\n",
        "      self.feature_num = features.shape[1]\n",
        "\n",
        "      self.rows = features.shape[0]\n",
        "\n",
        "      self.calc_stats(features, target)\n",
        "      self.calc_prior(features, target)\n",
        "\n",
        "\n",
        "\n",
        "\n",
        "   def predict(self, features):\n",
        "\n",
        "      predictions = [self.calc_posterior(f) for f in features.to_numpy()]\n",
        "\n",
        "      return predictions\n",
        "  \n",
        "   def accuracy(self, y_test, y_pred):\n",
        "\n",
        "      accuracy = np.sum(y_test == y_pred)/len(y_test)\n",
        "\n",
        "      return accuracy \n",
        "\n",
        "\n",
        "\n",
        "\n",
        "  \n",
        "\n",
        "  \n",
        "\n"
      ],
      "metadata": {
        "id": "9K-HKJaXe53V"
      },
      "execution_count": null,
      "outputs": []
    },
    {
      "cell_type": "code",
      "source": [
        "df = pd.read_csv('customerReviews.txt', delimiter='None', header=None)\n",
        "\n",
        "#Split based on the last comma\n",
        "df = df[0].str.rsplit(',', n=1, expand=True)\n"
      ],
      "metadata": {
        "id": "71QixVWlkAPo"
      },
      "execution_count": null,
      "outputs": []
    },
    {
      "cell_type": "code",
      "source": [
        "#Convert text to numerical form .\n",
        "\n",
        "X = df.iloc[: , :-1]\n",
        "y = df.iloc[: ,-1 ]\n",
        "\n",
        "\n",
        "# Preprocess X to remove empty\n",
        "\n",
        "\n",
        "# print(type(X.iloc[:,0]))\n",
        "# print(X.iloc[:,0])\n",
        "\n",
        "\n",
        "# print(y)"
      ],
      "metadata": {
        "id": "TfsfAABeldd9"
      },
      "execution_count": null,
      "outputs": []
    },
    {
      "cell_type": "code",
      "source": [
        "#Convert x to numerical form using countVectorizer\n",
        "from sklearn.feature_extraction.text import CountVectorizer\n",
        "\n",
        "cv = CountVectorizer(stop_words='english')\n",
        "\n",
        "X= X.iloc[:,0]\n",
        "\n"
      ],
      "metadata": {
        "id": "ERXwpYeOmVC5"
      },
      "execution_count": null,
      "outputs": []
    },
    {
      "cell_type": "code",
      "source": [
        "# Get the X values\n",
        "\n",
        "\n",
        "\n",
        "matrix = cv.fit_transform(X.values)\n",
        "\n",
        "\n",
        "\n"
      ],
      "metadata": {
        "id": "8Rz7F9PFuukP"
      },
      "execution_count": null,
      "outputs": []
    },
    {
      "cell_type": "code",
      "source": [],
      "metadata": {
        "id": "BLKkrmzEptlx"
      },
      "execution_count": null,
      "outputs": []
    },
    {
      "cell_type": "code",
      "source": [
        "\n"
      ],
      "metadata": {
        "id": "fWzR-FDpfKUx"
      },
      "execution_count": null,
      "outputs": []
    },
    {
      "cell_type": "code",
      "source": [
        "\n",
        "matrix.toarray()\n"
      ],
      "metadata": {
        "colab": {
          "base_uri": "https://localhost:8080/"
        },
        "id": "rENLZXAT0b56",
        "outputId": "39e70fe8-db53-4c99-871d-7a39f3afc33d"
      },
      "execution_count": null,
      "outputs": [
        {
          "output_type": "execute_result",
          "data": {
            "text/plain": [
              "array([[0, 0, 0, ..., 0, 0, 0],\n",
              "       [0, 1, 0, ..., 0, 0, 0],\n",
              "       [0, 0, 0, ..., 0, 0, 0],\n",
              "       ...,\n",
              "       [0, 0, 0, ..., 0, 0, 0],\n",
              "       [0, 0, 0, ..., 0, 0, 0],\n",
              "       [0, 0, 0, ..., 0, 0, 0]])"
            ]
          },
          "metadata": {},
          "execution_count": 12
        }
      ]
    },
    {
      "cell_type": "code",
      "source": [
        "counts = pd.DataFrame(matrix.toarray())\n",
        "# print(counts.shape)\n",
        "\n",
        "# print(counts)"
      ],
      "metadata": {
        "id": "0vExbwh3yx8j"
      },
      "execution_count": null,
      "outputs": []
    },
    {
      "cell_type": "code",
      "source": [
        "# print(y.shape)"
      ],
      "metadata": {
        "id": "drV6Enqpy3HG"
      },
      "execution_count": null,
      "outputs": []
    },
    {
      "cell_type": "code",
      "source": [],
      "metadata": {
        "id": "k8rCzQGIzBfI"
      },
      "execution_count": null,
      "outputs": []
    },
    {
      "cell_type": "code",
      "source": [
        "#Split into train , test\n",
        "X_train, X_test, y_train, y_test = train_test_split(counts, y, test_size = 0.3, random_state = 0)\n"
      ],
      "metadata": {
        "id": "IYQcnY5izCy_"
      },
      "execution_count": null,
      "outputs": []
    },
    {
      "cell_type": "code",
      "source": [
        "# print(type(X_test))\n",
        "# print(X_test.shape)"
      ],
      "metadata": {
        "id": "MVdeImyHhgkf"
      },
      "execution_count": null,
      "outputs": []
    },
    {
      "cell_type": "code",
      "source": [
        "#Instantiate class\n",
        "NB= NaiveBayesClassifier()\n",
        "NB.fit(X_train , y_train)\n"
      ],
      "metadata": {
        "id": "OW9xbYK_tAD5"
      },
      "execution_count": null,
      "outputs": []
    },
    {
      "cell_type": "code",
      "source": [
        "\n",
        "predictions = NB.predict(X_test)\n",
        "# print(predictions)\n",
        "# print(y_test)\n",
        "print(\"Accuracy:\")\n",
        "print(NB.accuracy(y_test , predictions))\n",
        "# print(NB.accuracy(y_test, predictions))"
      ],
      "metadata": {
        "id": "f7dT0WzO1IM-",
        "outputId": "68d031f2-32c6-47d9-9fbf-54c4a45409d3",
        "colab": {
          "base_uri": "https://localhost:8080/"
        }
      },
      "execution_count": null,
      "outputs": [
        {
          "output_type": "stream",
          "name": "stdout",
          "text": [
            "Accuracy:\n",
            "0.813953488372093\n"
          ]
        },
        {
          "output_type": "stream",
          "name": "stderr",
          "text": [
            "<ipython-input-7-e758adca616e>:46: RuntimeWarning: divide by zero encountered in log\n",
            "  conditional = np.sum(np.log(self.gaussian_den(i,x)))\n"
          ]
        }
      ]
    },
    {
      "cell_type": "code",
      "source": [
        "#5. Check for the new cases\n",
        "\n",
        "test_case = ['I had a terrible experience with this company ' ,\n",
        "             'This is a great company with excellent customer service',\n",
        "             'I was really disappointed with this product',\n",
        "             'service is too expensive for what it offers']\n",
        "\n",
        "\n",
        "# Transform the test_case so that they have the same number of columns\n",
        "test_x = cv.transform(test_case)\n",
        "test_x.toarray()\n",
        "test_x = pd.DataFrame(test_x.toarray())\n",
        "\n",
        "\n",
        "\n",
        "pred = NB.predict(test_x)\n",
        "\n",
        "for i in range(4):\n",
        "  print(test_case[i] + \": \" + pred[i])\n",
        "\n"
      ],
      "metadata": {
        "colab": {
          "base_uri": "https://localhost:8080/"
        },
        "id": "WLvxSWe9msOi",
        "outputId": "a5670c63-155c-48bb-8875-89363861fc38"
      },
      "execution_count": null,
      "outputs": [
        {
          "output_type": "stream",
          "name": "stdout",
          "text": [
            "I had a terrible experience with this company : negative\n",
            "This is a great company with excellent customer service: positive\n",
            "I was really disappointed with this product: positive\n",
            "service is too expensive for what it offers: negative\n"
          ]
        },
        {
          "output_type": "stream",
          "name": "stderr",
          "text": [
            "<ipython-input-7-e758adca616e>:46: RuntimeWarning: divide by zero encountered in log\n",
            "  conditional = np.sum(np.log(self.gaussian_den(i,x)))\n"
          ]
        }
      ]
    }
  ]
}